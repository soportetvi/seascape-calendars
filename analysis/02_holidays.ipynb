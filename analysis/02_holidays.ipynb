{
 "cells": [
  {
   "cell_type": "markdown",
   "id": "c839eecd",
   "metadata": {},
   "source": [
    "# A THEORY ABOUT HOLIDAYS, LONG WEEKENDS AND \"HOLIWEEKS\"\n"
   ]
  },
  {
   "cell_type": "code",
   "execution_count": 1,
   "id": "9fcc194c",
   "metadata": {},
   "outputs": [],
   "source": [
    "import sys\n",
    "import os\n",
    "sys.path.append(os.path.abspath('..'))\n",
    "from datetime import datetime,timedelta\n",
    "from backend.utils.regular import (\n",
    "    holly_weeks,\n",
    "    main_day_weeker,\n",
    "    gauss_easter\n",
    ")\n",
    "\n",
    "weeks_expected_per_year = 365 // 7\n",
    "fractions_quantity = 8"
   ]
  },
  {
   "cell_type": "markdown",
   "id": "8caf8919",
   "metadata": {},
   "source": [
<<<<<<< HEAD
    "### Tipos de fechas festivas\n",
    "\n",
    "_Cálculo de fechas y estrategia para calcular semana en que se festejan._"
=======
    "## Kinds Of Holidays\n",
    "\n"
>>>>>>> develop
   ]
  },
  {
   "cell_type": "markdown",
   "id": "c93f1de1",
   "metadata": {},
   "source": [
    "**CASE 1:** *Regular Deterministic*\n",
    "\n",
    " Dates which we have certain their will be celebrated on the day they fall.\n"
   ]
  },
  {
   "cell_type": "code",
   "execution_count": 2,
   "id": "dbc6348c",
   "metadata": {},
   "outputs": [],
   "source": [
    "def sabado_santo(year): \n",
    "    \"\"\"\n",
    "    Function for calculating Sabado santo (Samana Santa's Saturday).\n",
    "    \"\"\"\n",
    "    return gauss_easter(year) - timedelta(days = 1)\n",
    "\n",
    "def easter_saturday(year):\n",
    "    \"\"\"\n",
    "    Function for calculation easter's saturday.\n",
    "    \"\"\"\n",
    "    return gauss_easter(year) + timedelta(days = 6)\n",
    "\n",
    "def new_year(current_year):\n",
    "    \"\"\"\n",
    "    January first calculation.\n",
    "    \"\"\"\n",
    "    return datetime(current_year,1,1)\n",
    "\n",
    "def christmas(current_year):\n",
    "    \"\"\"\n",
    "    christmas calculation.\n",
    "    \"\"\"\n",
    "    return datetime(current_year,12,25)"
   ]
  },
  {
   "cell_type": "markdown",
   "id": "2b9f7c79",
   "metadata": {},
   "source": [
    "**CASE 2:** *Irregular Deterministic*\n",
    "\n",
    "Not as straightforward as the regular deterministic ones, since these dates are not celebrated on the day they fall, but rather on a specific weekday in their month.  \n"
   ]
  },
  {
   "cell_type": "code",
   "execution_count": 3,
   "id": "2c4278e2",
   "metadata": {},
   "outputs": [],
   "source": [
    "def constitution_day(current_year):\n",
    "    \"\"\"\n",
    "    First Monday of each February.\n",
    "    \"\"\"\n",
    "    count = 0 \n",
    "    for day in range(1,29):\n",
    "        date = datetime(current_year,2,day)\n",
    "        if date.weekday() == 0:\n",
    "            count += 1\n",
    "            if count == 1:\n",
    "                return date\n",
    "\n",
    "def benito_juarez_birthday(current_year):\n",
    "    \"\"\"\n",
    "    Third Monday of each March.\n",
    "    \"\"\"\n",
    "    count = 0\n",
    "    for day in range(1, 32):  \n",
    "        date = datetime(current_year, 3, day)\n",
    "        if date.weekday() == 0:  \n",
    "            count += 1\n",
    "            if count == 3:\n",
    "                return date\n",
    "\n",
    "def mexican_revolution_day(current_year):\n",
    "    \"\"\"\n",
    "    Since 2006 mexican government decreed day of the revolution will celebrated on third monday of november in each year.\n",
    "     So, this function calculates when is that particular monday.\n",
    "        \"\"\"\n",
    "    count = 0\n",
    "    for day in range(1, 31):  \n",
    "        date = datetime(current_year, 11, day)\n",
    "        if date.weekday() == 0:\n",
    "            count += 1\n",
    "            if count == 3:\n",
    "                return date\n",
    "\n",
    "def father_day(current_year):\n",
    "    \"\"\"\n",
    "    Third Sunday of each june.\n",
    "    \"\"\"\n",
    "    count = 0\n",
    "    for day in range(1, 31):  # june has 30 days\n",
    "        date = datetime(current_year, 6, day)\n",
    "        if date.weekday() == 6:  # sunday is equal to 6\n",
    "            count += 1\n",
    "            if count == 3:\n",
    "                return date\n",
    "\n",
    "def thanksgiving(current_year):\n",
    "    \"\"\"\n",
    "    Fourth thursday of each november\n",
    "    \"\"\"\n",
    "    count = 0\n",
    "    for day in range(1, 31):  # november has 30 days\n",
    "        date = datetime(current_year, 11, day)\n",
    "        if date.weekday() == 3:  # monday is equal to 0\n",
    "            count += 1\n",
    "            if count == 4:\n",
    "                return date"
   ]
  },
  {
   "cell_type": "markdown",
   "id": "298d28f1",
   "metadata": {},
   "source": [
    "**CASE 3:** _Non Deterministics_\n",
    "\n",
    "These are important dates, but not the main ones. We don't know for sure when we'll want to celebrate them."
   ]
  },
  {
   "cell_type": "code",
   "execution_count": 4,
   "id": "9b60053c",
   "metadata": {},
   "outputs": [],
   "source": [
    "def valentines_day(current_year):\n",
    "    \"\"\"\n",
    "    Valentine's Day calculation\n",
    "    \"\"\"\n",
    "    return datetime(current_year,2,14)\n",
    "\n",
    "def mothers_day(current_day):\n",
    "    \"\"\"\n",
    "    Mother's Day Calculation\n",
    "    \"\"\"\n",
    "    return datetime(current_day,5,10)\n",
    "\n",
    "def work_day(current_year):\n",
    "    \"\"\"\n",
    "    Labor's day calculation.\n",
    "    \"\"\"\n",
    "    date = datetime(current_year,5,1)\n",
    "    return date\n",
    "\n",
    "def independence_day(current_year):\n",
    "    \"\"\"\n",
    "    Mexican independence day calculation.\n",
    "    \"\"\"\n",
    "    date = datetime(current_year,9,16)\n",
    "    return date"
   ]
  },
  {
   "cell_type": "markdown",
   "id": "4cbcdf17",
   "metadata": {},
   "source": [
    "## Long Weekends"
   ]
  },
  {
   "cell_type": "markdown",
   "id": "e33ec374",
   "metadata": {},
   "source": [
    "Extra day weekends by some monday or friday holiday."
   ]
  },
  {
   "cell_type": "code",
   "execution_count": 5,
   "id": "b0f90ba4",
   "metadata": {},
   "outputs": [],
   "source": [
    "def constitution_day(current_year):\n",
    "    \"\"\"\n",
    "    Ever it's a long weekend.\n",
    "    \"\"\"\n",
    "    count = 0 \n",
    "    for day in range(1,29):\n",
    "        date = datetime(current_year,2,day)\n",
    "        if date.weekday() == 0:\n",
    "            count += 1\n",
    "            if count == 1:\n",
    "                return date\n",
    "            \n",
    "def benito_juarez_birthday(current_year):\n",
    "    \"\"\"\n",
    "    Ever it's a long weekend.\n",
    "    \"\"\"\n",
    "    count = 0\n",
    "    for day in range(1, 32):  \n",
    "        date = datetime(current_year, 3, day)\n",
    "        if date.weekday() == 0:  \n",
    "            count += 1\n",
    "            if count == 3:\n",
    "                return date\n",
    "\n",
    "def mexican_revolution_day(current_year):\n",
    "    \"\"\"\n",
    "    Ever it's a long weekend.\n",
    "    \"\"\"\n",
    "    count = 0\n",
    "    for day in range(1, 31):  \n",
    "        date = datetime(current_year, 11, day)\n",
    "        if date.weekday() == 0:\n",
    "            count += 1\n",
    "            if count == 3:\n",
    "                return date\n",
    "\n",
    "def independence_day(current_year):\n",
    "    \"\"\"\n",
    "    It must to be long weekend if and only if it falls on monday or friday.\n",
    "    \"\"\"\n",
    "    date = datetime(current_year,9,16)\n",
    "    return date"
   ]
  },
  {
   "cell_type": "markdown",
   "id": "127694e6",
   "metadata": {},
   "source": [
    "## Holiweeks  \n",
    "\n",
    "A **holiweek** is defined as any week that satisfies at least one of the following conditions:  \n",
    "\n",
    "- It includes at least one holiday of any type.  \n",
    "- The immediately following week contains a non-deterministic holiday.  \n"
   ]
  },
  {
   "cell_type": "markdown",
   "id": "b59e501f",
   "metadata": {},
   "source": [
    "It follows the total number of **holiweeks** per year for a particular example:  \n"
   ]
  },
  {
   "cell_type": "code",
   "execution_count": 17,
   "id": "35a68144",
   "metadata": {},
   "outputs": [
    {
     "name": "stdout",
     "output_type": "stream",
     "text": [
      "YEAR - HOLIWEEKS' INDIXES PER YEAR\n",
      "2026-[0, 4, 5, 6, 10, 13, 14, 16, 17, 18, 24, 36, 37, 45, 51]\n",
      "2027-[0, 4, 5, 6, 10, 12, 13, 16, 17, 18, 24, 36, 37, 45, 51]\n",
      "2028-[0, 5, 6, 11, 15, 16, 17, 18, 19, 24, 36, 37, 46, 51]\n",
      "2029-[0, 5, 6, 7, 11, 13, 14, 17, 18, 19, 24, 36, 37, 46, 52]\n",
      "2030-[0, 4, 5, 6, 10, 15, 16, 17, 18, 23, 35, 36, 45, 51]\n",
      "2031-[0, 4, 5, 6, 10, 14, 15, 16, 17, 18, 23, 36, 37, 45, 51]\n",
      "2032-[0, 4, 5, 6, 10, 12, 13, 16, 17, 18, 24, 36, 37, 45, 51]\n",
      "2033-[0, 5, 6, 11, 15, 16, 17, 18, 19, 24, 36, 37, 46, 51]\n",
      "2034-[0, 5, 6, 7, 11, 14, 15, 16, 17, 18, 19, 24, 36, 37, 46, 51]\n",
      "2035-[0, 5, 6, 7, 11, 12, 13, 17, 18, 19, 24, 36, 37, 46, 52]\n",
      "2036-[0, 4, 5, 6, 10, 14, 15, 16, 17, 18, 23, 36, 37, 45, 51]\n",
      "2037-[0, 4, 5, 6, 10, 13, 14, 16, 17, 18, 24, 36, 37, 45, 51]\n",
      "2038-[0, 4, 5, 6, 10, 16, 17, 18, 24, 36, 37, 45, 51]\n",
      "2039-[0, 5, 6, 11, 14, 15, 16, 17, 18, 19, 24, 36, 37, 46, 51]\n",
      "2040-[0, 5, 6, 7, 11, 13, 14, 17, 18, 19, 24, 36, 37, 46, 52]\n",
      "2041-[0, 4, 5, 6, 10, 15, 16, 17, 18, 23, 35, 36, 45, 51]\n",
      "2042-[0, 4, 5, 6, 10, 13, 14, 16, 17, 18, 23, 36, 37, 45, 51]\n",
      "2043-[0, 4, 5, 6, 10, 12, 13, 16, 17, 18, 24, 36, 37, 45, 51]\n",
      "2044-[0, 4, 5, 6, 11, 15, 16, 17, 18, 19, 24, 36, 37, 46, 51]\n",
      "2045-[0, 5, 6, 7, 11, 14, 15, 16, 17, 18, 19, 24, 36, 37, 46, 51]\n",
      "2046-[0, 5, 6, 7, 11, 12, 13, 17, 18, 19, 24, 36, 37, 46, 52]\n",
      "2047-[0, 4, 5, 6, 10, 14, 15, 16, 17, 18, 23, 35, 36, 45, 51]\n",
      "2048-[0, 4, 5, 6, 10, 13, 14, 16, 17, 18, 24, 36, 37, 45, 51]\n",
      "2049-[0, 4, 5, 6, 10, 15, 16, 17, 18, 24, 36, 37, 45, 51]\n",
      "2050-[0, 5, 6, 11, 14, 15, 16, 17, 18, 19, 24, 36, 37, 46, 51]\n"
     ]
    }
   ],
   "source": [
    "print(f'{\"YEAR\"} - {\"HOLIWEEKS' INDIXES PER YEAR\"}')\n",
    "for year in range(2026,2051):\n",
    "    reserved_weeks = holly_weeks(year,1)\n",
    "    weeks = []\n",
    "    for i in reserved_weeks:\n",
    "        weeks.append(i[0])\n",
    "    print(f'{year}-{weeks}')"
   ]
  }
 ],
 "metadata": {
  "kernelspec": {
   "display_name": "venv",
   "language": "python",
   "name": "python3"
  },
  "language_info": {
   "codemirror_mode": {
    "name": "ipython",
    "version": 3
   },
   "file_extension": ".py",
   "mimetype": "text/x-python",
   "name": "python",
   "nbconvert_exporter": "python",
   "pygments_lexer": "ipython3",
   "version": "3.13.5"
  }
 },
 "nbformat": 4,
 "nbformat_minor": 5
}
